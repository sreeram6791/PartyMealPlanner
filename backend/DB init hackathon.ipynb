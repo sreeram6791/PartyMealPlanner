{
 "cells": [
  {
   "cell_type": "code",
   "execution_count": 126,
   "metadata": {},
   "outputs": [],
   "source": [
    "import pandas as pd\n",
    "from neo4j import GraphDatabase\n",
    "df = pd.read_pickle('yummly_clean.pkl')\n",
    "df = df.dropna()"
   ]
  },
  {
   "cell_type": "code",
   "execution_count": 53,
   "metadata": {},
   "outputs": [],
   "source": [
    "def create_unique(session, label, value, recipeName, relationship):\n",
    "    \n",
    "    result = session.run(\"MATCH (node:\" + label + \") where node.name = '\" + value + \"' return node\")\n",
    "    flag = True\n",
    "\n",
    "    for t in result:\n",
    "\n",
    "        flag = False\n",
    "        break\n",
    "\n",
    "    if flag:\n",
    "\n",
    "        session.run(\"CREATE (n:\" + label + \" { name: '\"+ value +\"'})\")\n",
    "                    \n",
    "    session.run(\"MATCH (recipe: Recipe), (c:\" + label + \") WHERE recipe.name = '\" + recipeName +\"' AND c.name = '\" + value + \"' CREATE (recipe)-[r:\" + relationship + \"]->(c)\")"
   ]
  },
  {
   "cell_type": "code",
   "execution_count": 54,
   "metadata": {},
   "outputs": [
    {
     "ename": "KeyboardInterrupt",
     "evalue": "",
     "output_type": "error",
     "traceback": [
      "\u001b[0;31m---------------------------------------------------------------------------\u001b[0m",
      "\u001b[0;31mKeyboardInterrupt\u001b[0m                         Traceback (most recent call last)",
      "\u001b[0;32m~/anaconda2/envs/py36/lib/python3.6/ssl.py\u001b[0m in \u001b[0;36mrecv_into\u001b[0;34m(self, buffer, nbytes, flags)\u001b[0m\n\u001b[1;32m   1007\u001b[0m                   \u001b[0;34m\"non-zero flags not allowed in calls to recv_into() on %s\"\u001b[0m \u001b[0;34m%\u001b[0m\u001b[0;34m\u001b[0m\u001b[0m\n\u001b[1;32m   1008\u001b[0m                   self.__class__)\n\u001b[0;32m-> 1009\u001b[0;31m             \u001b[0;32mreturn\u001b[0m \u001b[0mself\u001b[0m\u001b[0;34m.\u001b[0m\u001b[0mread\u001b[0m\u001b[0;34m(\u001b[0m\u001b[0mnbytes\u001b[0m\u001b[0;34m,\u001b[0m \u001b[0mbuffer\u001b[0m\u001b[0;34m)\u001b[0m\u001b[0;34m\u001b[0m\u001b[0m\n\u001b[0m\u001b[1;32m   1010\u001b[0m         \u001b[0;32melse\u001b[0m\u001b[0;34m:\u001b[0m\u001b[0;34m\u001b[0m\u001b[0m\n\u001b[1;32m   1011\u001b[0m             \u001b[0;32mreturn\u001b[0m \u001b[0msocket\u001b[0m\u001b[0;34m.\u001b[0m\u001b[0mrecv_into\u001b[0m\u001b[0;34m(\u001b[0m\u001b[0mself\u001b[0m\u001b[0;34m,\u001b[0m \u001b[0mbuffer\u001b[0m\u001b[0;34m,\u001b[0m \u001b[0mnbytes\u001b[0m\u001b[0;34m,\u001b[0m \u001b[0mflags\u001b[0m\u001b[0;34m)\u001b[0m\u001b[0;34m\u001b[0m\u001b[0m\n",
      "\u001b[0;32m~/anaconda2/envs/py36/lib/python3.6/ssl.py\u001b[0m in \u001b[0;36mread\u001b[0;34m(self, len, buffer)\u001b[0m\n\u001b[1;32m    869\u001b[0m             \u001b[0;32mraise\u001b[0m \u001b[0mValueError\u001b[0m\u001b[0;34m(\u001b[0m\u001b[0;34m\"Read on closed or unwrapped SSL socket.\"\u001b[0m\u001b[0;34m)\u001b[0m\u001b[0;34m\u001b[0m\u001b[0m\n\u001b[1;32m    870\u001b[0m         \u001b[0;32mtry\u001b[0m\u001b[0;34m:\u001b[0m\u001b[0;34m\u001b[0m\u001b[0m\n\u001b[0;32m--> 871\u001b[0;31m             \u001b[0;32mreturn\u001b[0m \u001b[0mself\u001b[0m\u001b[0;34m.\u001b[0m\u001b[0m_sslobj\u001b[0m\u001b[0;34m.\u001b[0m\u001b[0mread\u001b[0m\u001b[0;34m(\u001b[0m\u001b[0mlen\u001b[0m\u001b[0;34m,\u001b[0m \u001b[0mbuffer\u001b[0m\u001b[0;34m)\u001b[0m\u001b[0;34m\u001b[0m\u001b[0m\n\u001b[0m\u001b[1;32m    872\u001b[0m         \u001b[0;32mexcept\u001b[0m \u001b[0mSSLError\u001b[0m \u001b[0;32mas\u001b[0m \u001b[0mx\u001b[0m\u001b[0;34m:\u001b[0m\u001b[0;34m\u001b[0m\u001b[0m\n\u001b[1;32m    873\u001b[0m             \u001b[0;32mif\u001b[0m \u001b[0mx\u001b[0m\u001b[0;34m.\u001b[0m\u001b[0margs\u001b[0m\u001b[0;34m[\u001b[0m\u001b[0;36m0\u001b[0m\u001b[0;34m]\u001b[0m \u001b[0;34m==\u001b[0m \u001b[0mSSL_ERROR_EOF\u001b[0m \u001b[0;32mand\u001b[0m \u001b[0mself\u001b[0m\u001b[0;34m.\u001b[0m\u001b[0msuppress_ragged_eofs\u001b[0m\u001b[0;34m:\u001b[0m\u001b[0;34m\u001b[0m\u001b[0m\n",
      "\u001b[0;32m~/anaconda2/envs/py36/lib/python3.6/ssl.py\u001b[0m in \u001b[0;36mread\u001b[0;34m(self, len, buffer)\u001b[0m\n\u001b[1;32m    629\u001b[0m         \"\"\"\n\u001b[1;32m    630\u001b[0m         \u001b[0;32mif\u001b[0m \u001b[0mbuffer\u001b[0m \u001b[0;32mis\u001b[0m \u001b[0;32mnot\u001b[0m \u001b[0;32mNone\u001b[0m\u001b[0;34m:\u001b[0m\u001b[0;34m\u001b[0m\u001b[0m\n\u001b[0;32m--> 631\u001b[0;31m             \u001b[0mv\u001b[0m \u001b[0;34m=\u001b[0m \u001b[0mself\u001b[0m\u001b[0;34m.\u001b[0m\u001b[0m_sslobj\u001b[0m\u001b[0;34m.\u001b[0m\u001b[0mread\u001b[0m\u001b[0;34m(\u001b[0m\u001b[0mlen\u001b[0m\u001b[0;34m,\u001b[0m \u001b[0mbuffer\u001b[0m\u001b[0;34m)\u001b[0m\u001b[0;34m\u001b[0m\u001b[0m\n\u001b[0m\u001b[1;32m    632\u001b[0m         \u001b[0;32melse\u001b[0m\u001b[0;34m:\u001b[0m\u001b[0;34m\u001b[0m\u001b[0m\n\u001b[1;32m    633\u001b[0m             \u001b[0mv\u001b[0m \u001b[0;34m=\u001b[0m \u001b[0mself\u001b[0m\u001b[0;34m.\u001b[0m\u001b[0m_sslobj\u001b[0m\u001b[0;34m.\u001b[0m\u001b[0mread\u001b[0m\u001b[0;34m(\u001b[0m\u001b[0mlen\u001b[0m\u001b[0;34m)\u001b[0m\u001b[0;34m\u001b[0m\u001b[0m\n",
      "\u001b[0;31mKeyboardInterrupt\u001b[0m: "
     ]
    },
    {
     "name": "stderr",
     "output_type": "stream",
     "text": [
      "Exception ignored in: 'neobolt.bolt._io.ChunkedInputBuffer.receive'\n",
      "Traceback (most recent call last):\n",
      "  File \"/Users/shubhamjayawant/anaconda2/envs/py36/lib/python3.6/ssl.py\", line 1009, in recv_into\n",
      "    return self.read(nbytes, buffer)\n",
      "  File \"/Users/shubhamjayawant/anaconda2/envs/py36/lib/python3.6/ssl.py\", line 871, in read\n",
      "    return self._sslobj.read(len, buffer)\n",
      "  File \"/Users/shubhamjayawant/anaconda2/envs/py36/lib/python3.6/ssl.py\", line 631, in read\n",
      "    v = self._sslobj.read(len, buffer)\n",
      "KeyboardInterrupt: \n"
     ]
    },
    {
     "ename": "ServiceUnavailable",
     "evalue": "Failed to read from defunct connection Address(host='127.0.0.1', port=7687)",
     "output_type": "error",
     "traceback": [
      "\u001b[0;31m---------------------------------------------------------------------------\u001b[0m",
      "\u001b[0;31mServiceUnavailable\u001b[0m                        Traceback (most recent call last)",
      "\u001b[0;32m<ipython-input-54-6074931a0d83>\u001b[0m in \u001b[0;36m<module>\u001b[0;34m()\u001b[0m\n\u001b[1;32m     23\u001b[0m         \u001b[0;32mfor\u001b[0m \u001b[0mingredient\u001b[0m \u001b[0;32min\u001b[0m \u001b[0mrow\u001b[0m\u001b[0;34m[\u001b[0m\u001b[0;34m'clean ingredients'\u001b[0m\u001b[0;34m]\u001b[0m\u001b[0;34m.\u001b[0m\u001b[0mvalues\u001b[0m\u001b[0;34m[\u001b[0m\u001b[0;36m0\u001b[0m\u001b[0;34m]\u001b[0m\u001b[0;34m:\u001b[0m\u001b[0;34m\u001b[0m\u001b[0m\n\u001b[1;32m     24\u001b[0m \u001b[0;34m\u001b[0m\u001b[0m\n\u001b[0;32m---> 25\u001b[0;31m             \u001b[0mcreate_unique\u001b[0m\u001b[0;34m(\u001b[0m\u001b[0msession\u001b[0m\u001b[0;34m,\u001b[0m \u001b[0;34m'Ingredient'\u001b[0m\u001b[0;34m,\u001b[0m \u001b[0mingredient\u001b[0m\u001b[0;34m,\u001b[0m \u001b[0mrecipeName\u001b[0m\u001b[0;34m,\u001b[0m \u001b[0;34m'CONTAINS'\u001b[0m\u001b[0;34m)\u001b[0m\u001b[0;34m\u001b[0m\u001b[0m\n\u001b[0m\u001b[1;32m     26\u001b[0m \u001b[0;34m\u001b[0m\u001b[0m\n\u001b[1;32m     27\u001b[0m \u001b[0mdriver\u001b[0m\u001b[0;34m.\u001b[0m\u001b[0mclose\u001b[0m\u001b[0;34m(\u001b[0m\u001b[0;34m)\u001b[0m\u001b[0;34m\u001b[0m\u001b[0m\n",
      "\u001b[0;32m<ipython-input-53-f19fa1a8387a>\u001b[0m in \u001b[0;36mcreate_unique\u001b[0;34m(session, label, value, recipeName, relationship)\u001b[0m\n\u001b[1;32m     13\u001b[0m         \u001b[0msession\u001b[0m\u001b[0;34m.\u001b[0m\u001b[0mrun\u001b[0m\u001b[0;34m(\u001b[0m\u001b[0;34m\"CREATE (n:\"\u001b[0m \u001b[0;34m+\u001b[0m \u001b[0mlabel\u001b[0m \u001b[0;34m+\u001b[0m \u001b[0;34m\" { name: '\"\u001b[0m\u001b[0;34m+\u001b[0m \u001b[0mvalue\u001b[0m \u001b[0;34m+\u001b[0m\u001b[0;34m\"'})\"\u001b[0m\u001b[0;34m)\u001b[0m\u001b[0;34m\u001b[0m\u001b[0m\n\u001b[1;32m     14\u001b[0m \u001b[0;34m\u001b[0m\u001b[0m\n\u001b[0;32m---> 15\u001b[0;31m     \u001b[0msession\u001b[0m\u001b[0;34m.\u001b[0m\u001b[0mrun\u001b[0m\u001b[0;34m(\u001b[0m\u001b[0;34m\"MATCH (recipe: Recipe), (c:\"\u001b[0m \u001b[0;34m+\u001b[0m \u001b[0mlabel\u001b[0m \u001b[0;34m+\u001b[0m \u001b[0;34m\") WHERE recipe.name = '\"\u001b[0m \u001b[0;34m+\u001b[0m \u001b[0mrecipeName\u001b[0m \u001b[0;34m+\u001b[0m\u001b[0;34m\"' AND c.name = '\"\u001b[0m \u001b[0;34m+\u001b[0m \u001b[0mvalue\u001b[0m \u001b[0;34m+\u001b[0m \u001b[0;34m\"' CREATE (recipe)-[r:\"\u001b[0m \u001b[0;34m+\u001b[0m \u001b[0mrelationship\u001b[0m \u001b[0;34m+\u001b[0m \u001b[0;34m\"]->(c)\"\u001b[0m\u001b[0;34m)\u001b[0m\u001b[0;34m\u001b[0m\u001b[0m\n\u001b[0m",
      "\u001b[0;32m~/anaconda2/envs/py36/lib/python3.6/site-packages/neo4j/__init__.py\u001b[0m in \u001b[0;36mrun\u001b[0;34m(self, statement, parameters, **kwparameters)\u001b[0m\n\u001b[1;32m    464\u001b[0m             \u001b[0;32mtry\u001b[0m\u001b[0;34m:\u001b[0m\u001b[0;34m\u001b[0m\u001b[0m\n\u001b[1;32m    465\u001b[0m                 \u001b[0mself\u001b[0m\u001b[0;34m.\u001b[0m\u001b[0m_connection\u001b[0m\u001b[0;34m.\u001b[0m\u001b[0msend\u001b[0m\u001b[0;34m(\u001b[0m\u001b[0;34m)\u001b[0m\u001b[0;34m\u001b[0m\u001b[0m\n\u001b[0;32m--> 466\u001b[0;31m                 \u001b[0mself\u001b[0m\u001b[0;34m.\u001b[0m\u001b[0m_connection\u001b[0m\u001b[0;34m.\u001b[0m\u001b[0mfetch\u001b[0m\u001b[0;34m(\u001b[0m\u001b[0;34m)\u001b[0m\u001b[0;34m\u001b[0m\u001b[0m\n\u001b[0m\u001b[1;32m    467\u001b[0m             \u001b[0;32mexcept\u001b[0m \u001b[0mConnectionExpired\u001b[0m \u001b[0;32mas\u001b[0m \u001b[0merror\u001b[0m\u001b[0;34m:\u001b[0m\u001b[0;34m\u001b[0m\u001b[0m\n\u001b[1;32m    468\u001b[0m                 \u001b[0;32mraise\u001b[0m \u001b[0mSessionExpired\u001b[0m\u001b[0;34m(\u001b[0m\u001b[0;34m*\u001b[0m\u001b[0merror\u001b[0m\u001b[0;34m.\u001b[0m\u001b[0margs\u001b[0m\u001b[0;34m)\u001b[0m\u001b[0;34m\u001b[0m\u001b[0m\n",
      "\u001b[0;32m~/anaconda2/envs/py36/lib/python3.6/site-packages/neobolt/direct.py\u001b[0m in \u001b[0;36mfetch\u001b[0;34m(self)\u001b[0m\n\u001b[1;32m    388\u001b[0m     \u001b[0;32mdef\u001b[0m \u001b[0mfetch\u001b[0m\u001b[0;34m(\u001b[0m\u001b[0mself\u001b[0m\u001b[0;34m)\u001b[0m\u001b[0;34m:\u001b[0m\u001b[0;34m\u001b[0m\u001b[0m\n\u001b[1;32m    389\u001b[0m         \u001b[0;32mtry\u001b[0m\u001b[0;34m:\u001b[0m\u001b[0;34m\u001b[0m\u001b[0m\n\u001b[0;32m--> 390\u001b[0;31m             \u001b[0;32mreturn\u001b[0m \u001b[0mself\u001b[0m\u001b[0;34m.\u001b[0m\u001b[0m_fetch\u001b[0m\u001b[0;34m(\u001b[0m\u001b[0;34m)\u001b[0m\u001b[0;34m\u001b[0m\u001b[0m\n\u001b[0m\u001b[1;32m    391\u001b[0m         \u001b[0;32mexcept\u001b[0m \u001b[0mself\u001b[0m\u001b[0;34m.\u001b[0m\u001b[0merror_handler\u001b[0m\u001b[0;34m.\u001b[0m\u001b[0mknown_errors\u001b[0m \u001b[0;32mas\u001b[0m \u001b[0merror\u001b[0m\u001b[0;34m:\u001b[0m\u001b[0;34m\u001b[0m\u001b[0m\n\u001b[1;32m    392\u001b[0m             \u001b[0mself\u001b[0m\u001b[0;34m.\u001b[0m\u001b[0merror_handler\u001b[0m\u001b[0;34m.\u001b[0m\u001b[0mhandle\u001b[0m\u001b[0;34m(\u001b[0m\u001b[0merror\u001b[0m\u001b[0;34m,\u001b[0m \u001b[0mself\u001b[0m\u001b[0;34m.\u001b[0m\u001b[0maddress\u001b[0m\u001b[0;34m)\u001b[0m\u001b[0;34m\u001b[0m\u001b[0m\n",
      "\u001b[0;32m~/anaconda2/envs/py36/lib/python3.6/site-packages/neobolt/direct.py\u001b[0m in \u001b[0;36m_fetch\u001b[0;34m(self)\u001b[0m\n\u001b[1;32m    405\u001b[0m             \u001b[0;32mreturn\u001b[0m \u001b[0;36m0\u001b[0m\u001b[0;34m,\u001b[0m \u001b[0;36m0\u001b[0m\u001b[0;34m\u001b[0m\u001b[0m\n\u001b[1;32m    406\u001b[0m \u001b[0;34m\u001b[0m\u001b[0m\n\u001b[0;32m--> 407\u001b[0;31m         \u001b[0mself\u001b[0m\u001b[0;34m.\u001b[0m\u001b[0m_receive\u001b[0m\u001b[0;34m(\u001b[0m\u001b[0;34m)\u001b[0m\u001b[0;34m\u001b[0m\u001b[0m\n\u001b[0m\u001b[1;32m    408\u001b[0m \u001b[0;34m\u001b[0m\u001b[0m\n\u001b[1;32m    409\u001b[0m         \u001b[0mdetails\u001b[0m\u001b[0;34m,\u001b[0m \u001b[0msummary_signature\u001b[0m\u001b[0;34m,\u001b[0m \u001b[0msummary_metadata\u001b[0m \u001b[0;34m=\u001b[0m \u001b[0mself\u001b[0m\u001b[0;34m.\u001b[0m\u001b[0m_unpack\u001b[0m\u001b[0;34m(\u001b[0m\u001b[0;34m)\u001b[0m\u001b[0;34m\u001b[0m\u001b[0m\n",
      "\u001b[0;32m~/anaconda2/envs/py36/lib/python3.6/site-packages/neobolt/direct.py\u001b[0m in \u001b[0;36m_receive\u001b[0;34m(self)\u001b[0m\n\u001b[1;32m    443\u001b[0m             \u001b[0mself\u001b[0m\u001b[0;34m.\u001b[0m\u001b[0m_defunct\u001b[0m \u001b[0;34m=\u001b[0m \u001b[0;32mTrue\u001b[0m\u001b[0;34m\u001b[0m\u001b[0m\n\u001b[1;32m    444\u001b[0m             \u001b[0mself\u001b[0m\u001b[0;34m.\u001b[0m\u001b[0mclose\u001b[0m\u001b[0;34m(\u001b[0m\u001b[0;34m)\u001b[0m\u001b[0;34m\u001b[0m\u001b[0m\n\u001b[0;32m--> 445\u001b[0;31m             \u001b[0;32mraise\u001b[0m \u001b[0mself\u001b[0m\u001b[0;34m.\u001b[0m\u001b[0mError\u001b[0m\u001b[0;34m(\u001b[0m\u001b[0;34m\"Failed to read from defunct connection {!r}\"\u001b[0m\u001b[0;34m.\u001b[0m\u001b[0mformat\u001b[0m\u001b[0;34m(\u001b[0m\u001b[0mself\u001b[0m\u001b[0;34m.\u001b[0m\u001b[0mserver\u001b[0m\u001b[0;34m.\u001b[0m\u001b[0maddress\u001b[0m\u001b[0;34m)\u001b[0m\u001b[0;34m)\u001b[0m\u001b[0;34m\u001b[0m\u001b[0m\n\u001b[0m\u001b[1;32m    446\u001b[0m \u001b[0;34m\u001b[0m\u001b[0m\n\u001b[1;32m    447\u001b[0m     \u001b[0;32mdef\u001b[0m \u001b[0m_unpack\u001b[0m\u001b[0;34m(\u001b[0m\u001b[0mself\u001b[0m\u001b[0;34m)\u001b[0m\u001b[0;34m:\u001b[0m\u001b[0;34m\u001b[0m\u001b[0m\n",
      "\u001b[0;31mServiceUnavailable\u001b[0m: Failed to read from defunct connection Address(host='127.0.0.1', port=7687)"
     ]
    }
   ],
   "source": [
    "rows = df.shape[0]\n",
    "db_host = \"bolt://localhost:7687\"\n",
    "db_username = \"neo4j\"\n",
    "db_password = \"root\"\n",
    "driver = GraphDatabase.driver(db_host, auth=(db_username, db_password))\n",
    "with driver.session() as session:\n",
    "    \n",
    "    for i in range(rows):\n",
    "\n",
    "        row = df.iloc[[i]]\n",
    "        url = 'https://www.yummly.com/recipe/' + row['id'].values[0]\n",
    "        recipeName = row['recipeName'].values[0].replace(\"'\",\"\")\n",
    "        \n",
    "        session.run(\"CREATE (recipe:Recipe {name: '\"+ recipeName +\"', url: '\"+ url +\"', rating:'\"+ str(row['rating'].values[0]) +\"', totalTimeInSeconds: '\"+ str(row['totalTimeInSeconds'].values[0]) +\"'})\")\n",
    "        courses = row['course'].values[0].replace('[', '').replace(']', '').split(', ')\n",
    "        \n",
    "        for course in courses:\n",
    "            \n",
    "            create_unique(session, 'Course', course, recipeName, 'IS_A')\n",
    "            \n",
    "        create_unique(session, 'Cuisine', row['cuisine'].values[0], recipeName, 'BELONGS_TO')\n",
    "        \n",
    "        for ingredient in row['clean ingredients'].values[0]:\n",
    "            \n",
    "            create_unique(session, 'Ingredient', ingredient, recipeName, 'CONTAINS')\n",
    "        \n",
    "driver.close()"
   ]
  },
  {
   "cell_type": "code",
   "execution_count": 111,
   "metadata": {},
   "outputs": [],
   "source": [
    "likes = ['Indian', 'American']\n",
    "dislikes = ['coleslaw', 'udon', 'oregano']"
   ]
  },
  {
   "cell_type": "code",
   "execution_count": 120,
   "metadata": {},
   "outputs": [],
   "source": [
    "def isAllReady(menu, limit):\n",
    "    \n",
    "    courses = [\"Appetizers\",\"Salads\",\"Side Dishes\",\"Main Dishes\",\"Lunch and Snacks\",\"Breakfast and Brunch\",\"Beverages\",\"Condiments and Sauces\",\"Afternoon Tea\",\"Desserts\",\"Breads\",\"Soups\",\"Cocktails\"]\n",
    "    r = []\n",
    "    \n",
    "    for c in courses:\n",
    "        \n",
    "        if c not in menu or len(menu[c]) < limit:\n",
    "            \n",
    "            return False\n",
    "        \n",
    "    return True"
   ]
  },
  {
   "cell_type": "code",
   "execution_count": 121,
   "metadata": {},
   "outputs": [],
   "source": [
    "def get_menu(session, likes, dislikes):\n",
    "    \n",
    "    limit = 5\n",
    "    menu = {}\n",
    "    final_result = []\n",
    "    \n",
    "    for like in likes:\n",
    "        \n",
    "        query = 'MATCH (rec:Recipe) -[r:BELONGS_TO]-> (c:Cuisine), (rec) -[r2:CONTAINS]-> (i:Ingredient) WHERE c.name = \"' + like + '\" AND NOT i.name IN ' + str(dislikes) + 'return rec.name, rec.rating'\n",
    "        current_result = list(set([(t['rec.name'], t['rec.rating']) for t in session.run(query)]))\n",
    "        current_result.sort(key=lambda elem: elem[1], reverse = True)\n",
    "        final_result += [x[0] for x in current_result]\n",
    "    \n",
    "    for r in final_result:\n",
    "        \n",
    "        if isAllReady(menu, limit):\n",
    "            \n",
    "            return menu\n",
    "        \n",
    "        query = 'MATCH (rec:Recipe) -[r:IS_A]-> (c: Course) return c.name'\n",
    "        result = session.run(query)\n",
    "        \n",
    "        for t in result:\n",
    "            \n",
    "            if t['c.name'] not in menu:\n",
    "                \n",
    "                menu[t['c.name']] = [r]\n",
    "                break\n",
    "                \n",
    "            elif len(menu[t['c.name']]) < limit:\n",
    "                \n",
    "                menu[t['c.name']].append(r)\n",
    "                break\n",
    "                \n",
    "    return menu"
   ]
  },
  {
   "cell_type": "code",
   "execution_count": 125,
   "metadata": {},
   "outputs": [
    {
     "name": "stdout",
     "output_type": "stream",
     "text": [
      "{'Appetizers': ['Indian Style Rice', 'Indian Fish Coconut Curry', 'Indian Butter Chicken', 'Indian-Spiced Mixed Nuts', 'Spicy Red Lentil and Chickpea Stew (Paulas Moroccan Lentil Stew)'], 'Salads': ['Zucchini and Tomato Curry', 'Kerala Spiced Peas', 'Mango Lassi', 'Indian Spiced Cauliflower and Potato', 'Strawberry Lassi'], 'Side Dishes': ['Curried Ground Turkey with Potatoes', 'Skinny Chicken Tikka Masala', 'Curried Sauteed Cauliflower', 'Basmati Rice', 'Keema (Indian-Style Ground Meat)'], 'Main Dishes': ['Easy Mango Lassi', 'Tandoori Chicken', 'Chana Masala', 'Middle Eastern Spicy Ground Beef with Baharat Seasoning, Mint, and Cilantro', 'Chicken Tikka Masala'], 'Lunch and Snacks': ['Indian Sweet Bread', 'Dahi Chicken Curry, Doi Murgh', 'Masala Chai (Indian Spiced Tea)', 'Goan Curried Braised Beef With Coconut Milk, Vinegar and Potatoes', 'BOMBAY ALOO'], 'Breakfast and Brunch': ['Tandoori Turkey Breast', 'Slow Cooker Lamb Rogan Josh', 'Indian Roasted Red Lentil Soup', 'Squash & Red Lentil Curry', 'Lamb and Fresh Plum Tagine'], 'Beverages': ['Indian Spicy Chai Tea', 'Indian Dhal (Lentil Puree)', 'Pineapple Lassi', 'Panchratani Daal, Five-Lentils Medley', 'Healthy Tandoori Chicken Kebab'], 'Condiments and Sauces': ['Mint and Pomegranate Raita', 'Eggplant Chana Masala', 'Chickpea Curry with Quinoa', 'Tandoori Chicken Tikka', 'Indian Curried Poached Eggs'], 'Afternoon Tea': ['Kerala style Fish Molee/Moly', 'Indian-Seasoned Vegetable Patties', 'Hotel Saravana Bhavan Vegetable Kurma', 'Butter Chicken', 'Peanut Chicken Curry'], 'Desserts': ['Indian Lentil Soup', 'Indian Lamb Curry', 'Masala Chai (Hot Indian Tea spiced with Cardamom and Ginger)', 'Lamb Saag â\\x80\\x93 Lamb and Spinach Curry', 'Naan (Indian Flat Bread)'], '': ['Rasgulla -Famous Bengali Sweet | Indian Sweet', 'Creamy Chicken Tikka Masala', 'Indian Naan', 'Tawa Pulao', 'Indian Potatoes with Mustard Seeds (Sookhi Bhaji)'], 'Breads': ['Paneer Kofta Curry', 'Indian Chai Oatmeal', 'Mauritian Vegan Briyani with Okra and Soya Chunks (Textured Vegetable Protein)', 'Coconut Rice', 'Mango Iced Tea'], 'Soups': ['Quinoa Cauliflower Biryani. Vegan Glutenfree', 'Matar Paneer', 'Saffron Rice', 'Dhal Makhani', 'Aloo Matar Dry Recipe-How to make dry aloo matar'], 'Cocktails': ['Indian Saffron Chicken', 'Easy Indian Naan Bread', 'Indian Basmati Rice Seasoned with Garam Masala', 'Indian Aloo Gobi', 'Indian Spiced Beef Kabobs']}\n"
     ]
    }
   ],
   "source": [
    "from py2neo import Graph\n",
    "db_host = \"localhost\"\n",
    "db_port = 7687\n",
    "db_username = \"neo4j\"\n",
    "db_password = \"root\"\n",
    "graph = Graph(username = db_username, password = db_password, host = db_host, port = db_port)\n",
    "print(get_menu(graph, likes, dislikes))"
   ]
  },
  {
   "cell_type": "code",
   "execution_count": null,
   "metadata": {},
   "outputs": [],
   "source": []
  }
 ],
 "metadata": {
  "kernelspec": {
   "display_name": "Python 3",
   "language": "python",
   "name": "python3"
  },
  "language_info": {
   "codemirror_mode": {
    "name": "ipython",
    "version": 3
   },
   "file_extension": ".py",
   "mimetype": "text/x-python",
   "name": "python",
   "nbconvert_exporter": "python",
   "pygments_lexer": "ipython3",
   "version": "3.6.5"
  }
 },
 "nbformat": 4,
 "nbformat_minor": 2
}
